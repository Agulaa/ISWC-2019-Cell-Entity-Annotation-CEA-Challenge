{
 "cells": [
  {
   "cell_type": "markdown",
   "metadata": {},
   "source": [
    "# ISWC 2019 Cell-Entity Annotation (CEA) Challenge"
   ]
  },
  {
   "cell_type": "markdown",
   "metadata": {},
   "source": [
    "https://www.aicrowd.com/challenges/iswc-2019-cell-entity-annotation-cea-challenge"
   ]
  },
  {
   "cell_type": "markdown",
   "metadata": {},
   "source": [
    "## Import required libraries"
   ]
  },
  {
   "cell_type": "code",
   "execution_count": 1,
   "metadata": {},
   "outputs": [],
   "source": [
    "import pandas as pd \n",
    "pd.set_option('display.max_colwidth', -1)\n",
    "pd.set_option('display.max_columns',10)\n",
    "pd.set_option('display.max_rows',8000)\n",
    "import numpy as np \n",
    "from SPARQLWrapper import SPARQLWrapper, JSON, XML, N3\n",
    "from rdflib import Graph\n",
    "from langdetect import detect\n",
    "import re\n",
    "import csv\n",
    "from agdistispy.agdistis import Agdistis\n",
    "ag = Agdistis()"
   ]
  },
  {
   "cell_type": "markdown",
   "metadata": {},
   "source": [
    "Create target DataFrame which contain columns [Table_id, Column_id, Row_id, DBpedia_entity,Cell_before,Cell_after,Where]"
   ]
  },
  {
   "cell_type": "code",
   "execution_count": 20,
   "metadata": {},
   "outputs": [],
   "source": [
    "df_target = pd.read_csv(\"../CEA_Round1_Targets.csv\", header=None)\n",
    "df_target.columns=[\"Table_id\", \"Column_id\", \"Row_id\"]"
   ]
  },
  {
   "cell_type": "code",
   "execution_count": 21,
   "metadata": {},
   "outputs": [],
   "source": [
    "df_target[\"DBpedia_entity\"] = \"\"\n",
    "df_target[\"Cell_before\"] = \"\"\n",
    "df_target[\"Cell_after\"] = \"\"\n",
    "df_target[\"Where\"] = \"\""
   ]
  },
  {
   "cell_type": "code",
   "execution_count": 22,
   "metadata": {},
   "outputs": [
    {
     "data": {
      "text/html": [
       "<div>\n",
       "<style scoped>\n",
       "    .dataframe tbody tr th:only-of-type {\n",
       "        vertical-align: middle;\n",
       "    }\n",
       "\n",
       "    .dataframe tbody tr th {\n",
       "        vertical-align: top;\n",
       "    }\n",
       "\n",
       "    .dataframe thead th {\n",
       "        text-align: right;\n",
       "    }\n",
       "</style>\n",
       "<table border=\"1\" class=\"dataframe\">\n",
       "  <thead>\n",
       "    <tr style=\"text-align: right;\">\n",
       "      <th></th>\n",
       "      <th>Table_id</th>\n",
       "      <th>Column_id</th>\n",
       "      <th>Row_id</th>\n",
       "      <th>DBpedia_entity</th>\n",
       "      <th>Cell_before</th>\n",
       "      <th>Cell_after</th>\n",
       "      <th>Where</th>\n",
       "    </tr>\n",
       "  </thead>\n",
       "  <tbody>\n",
       "    <tr>\n",
       "      <th>0</th>\n",
       "      <td>50245608_0_871275842592178099</td>\n",
       "      <td>0</td>\n",
       "      <td>154</td>\n",
       "      <td></td>\n",
       "      <td></td>\n",
       "      <td></td>\n",
       "      <td></td>\n",
       "    </tr>\n",
       "    <tr>\n",
       "      <th>1</th>\n",
       "      <td>39107734_2_2329160387535788734</td>\n",
       "      <td>1</td>\n",
       "      <td>32</td>\n",
       "      <td></td>\n",
       "      <td></td>\n",
       "      <td></td>\n",
       "      <td></td>\n",
       "    </tr>\n",
       "    <tr>\n",
       "      <th>2</th>\n",
       "      <td>22864497_0_8632623712684511496</td>\n",
       "      <td>0</td>\n",
       "      <td>227</td>\n",
       "      <td></td>\n",
       "      <td></td>\n",
       "      <td></td>\n",
       "      <td></td>\n",
       "    </tr>\n",
       "    <tr>\n",
       "      <th>3</th>\n",
       "      <td>66009064_0_9148652238372261251</td>\n",
       "      <td>0</td>\n",
       "      <td>15</td>\n",
       "      <td></td>\n",
       "      <td></td>\n",
       "      <td></td>\n",
       "      <td></td>\n",
       "    </tr>\n",
       "    <tr>\n",
       "      <th>4</th>\n",
       "      <td>21362676_0_6854186738074119688</td>\n",
       "      <td>1</td>\n",
       "      <td>75</td>\n",
       "      <td></td>\n",
       "      <td></td>\n",
       "      <td></td>\n",
       "      <td></td>\n",
       "    </tr>\n",
       "  </tbody>\n",
       "</table>\n",
       "</div>"
      ],
      "text/plain": [
       "                         Table_id  Column_id  Row_id DBpedia_entity  \\\n",
       "0  50245608_0_871275842592178099   0          154                     \n",
       "1  39107734_2_2329160387535788734  1          32                      \n",
       "2  22864497_0_8632623712684511496  0          227                     \n",
       "3  66009064_0_9148652238372261251  0          15                      \n",
       "4  21362676_0_6854186738074119688  1          75                      \n",
       "\n",
       "  Cell_before Cell_after Where  \n",
       "0                               \n",
       "1                               \n",
       "2                               \n",
       "3                               \n",
       "4                               "
      ]
     },
     "execution_count": 22,
     "metadata": {},
     "output_type": "execute_result"
    }
   ],
   "source": [
    "df_target.head()"
   ]
  },
  {
   "cell_type": "markdown",
   "metadata": {},
   "source": [
    "# Method to find uri for entity \n",
    "### 1. SPARQL (SPARQLWrapper) https://github.com/RDFLib/sparqlwrapper\n",
    "### 2. Agdistis (Python bindings for AGDISTIS - Multilingual Disambiguation of Named Entities Using Linked Data) https://pypi.org/project/agdistispy/"
   ]
  },
  {
   "cell_type": "markdown",
   "metadata": {},
   "source": [
    "## Method to make preprocessing for entity "
   ]
  },
  {
   "cell_type": "code",
   "execution_count": 28,
   "metadata": {},
   "outputs": [],
   "source": [
    "def remove_special_signs(word):\n",
    "    result = \"\"\n",
    "    for w in word:\n",
    "        if  w!=\",\" and w!='[' and w!=']' and w!='?' and w!='>':\n",
    "            result += w \n",
    "    return result"
   ]
  },
  {
   "cell_type": "code",
   "execution_count": 29,
   "metadata": {},
   "outputs": [],
   "source": [
    "def contain_brackets(word):\n",
    "    return  word.split(\"(\")[0]"
   ]
  },
  {
   "cell_type": "code",
   "execution_count": 30,
   "metadata": {},
   "outputs": [],
   "source": [
    "def delete_last_space(word):\n",
    "    if word[-1] == \" \":\n",
    "        return word[:-1]\n",
    "    else: return word"
   ]
  },
  {
   "cell_type": "code",
   "execution_count": 32,
   "metadata": {},
   "outputs": [],
   "source": [
    "def do_make_for_cell(cell):\n",
    "    try:\n",
    "        cell_after = remove_special_signs(cell)\n",
    "        cell_after = contain_brackets(cell_after)\n",
    "        cell_after = delete_last_space(cell_after)\n",
    "        return cell_after\n",
    "    except:\n",
    "        return cell"
   ]
  },
  {
   "cell_type": "code",
   "execution_count": 31,
   "metadata": {},
   "outputs": [],
   "source": [
    "def make_query(entity, sparql):\n",
    "    sparql.setQuery(\"\"\"\n",
    "       PREFIX rdfs: <http://www.w3.org/2000/01/rdf-schema#>\n",
    "       SELECT ?s WHERE {\n",
    "      {\n",
    "        ?s rdfs:label \"%s\"@en.\n",
    "      }\n",
    "    }\n",
    "    \"\"\"%(entity))\n",
    "    sparql.setReturnFormat(JSON)\n",
    "    results = sparql.query().convert()\n",
    "    uri = \"\"\n",
    "    \n",
    "    for result in results[\"results\"][\"bindings\"]:\n",
    "        res = result['s']['value']\n",
    "        if \"dbpedia.org\" in res:\n",
    "            uri += res+\" \"\n",
    "    return uri "
   ]
  },
  {
   "cell_type": "code",
   "execution_count": 34,
   "metadata": {},
   "outputs": [],
   "source": [
    "def find_agdistic(cell):\n",
    "    x = ag.disambiguate(f\"<entity>{cell}</entity>\")\n",
    "    uri = x[0]['disambiguatedURL']\n",
    "    return uri"
   ]
  },
  {
   "cell_type": "code",
   "execution_count": 35,
   "metadata": {},
   "outputs": [],
   "source": [
    "def find_uri(df, column_id, row_id, sparql):\n",
    "    try:\n",
    "        cell_before = df.iloc[row_id, column_id] \n",
    "        cell_after = do_make_for_cell(cell_before)\n",
    "        uri = make_query(cell_after, sparql)\n",
    "        if uri == \"\":\n",
    "            uri = make_query(cell_before, sparql)\n",
    "            if uri == \"\":\n",
    "                uri = find_agdistic(cell_before)\n",
    "                where=\"Agdistis_before\"\n",
    "                if \"notInWiki\" in uri:\n",
    "                    uri = find_agdistic(cell_after)\n",
    "                    if \"notInWiki\" in uri:\n",
    "                        uri = \"\"\n",
    "                else:\n",
    "                    where=\"Agdistis_after\"\n",
    "            else:\n",
    "                where = \"sparql_before\"\n",
    "        else:\n",
    "            where = \"sparql_after\"\n",
    "                    \n",
    "        return uri, cell_before, cell_after, where\n",
    "    except:\n",
    "        return np.nan, cell_before, np.nan, np.nan"
   ]
  },
  {
   "cell_type": "code",
   "execution_count": 36,
   "metadata": {},
   "outputs": [],
   "source": [
    "def make_for_row(row):\n",
    "    global first_table\n",
    "    sparql = SPARQLWrapper(\"http://dbpedia.org/sparql\")\n",
    "    table_id = row[\"Table_id\"]\n",
    "    sniffer = csv.Sniffer().has_header(f\"../CEA_Round1/{table_id}.csv\")\n",
    "    if first_table == table_id:\n",
    "        if sniffer:\n",
    "                df = pd.read_csv(f\"../CEA_Round1/{table_id}.csv\")\n",
    "            \n",
    "        else: \n",
    "            df = pd.read_csv(f\"../CEA_Round1/{table_id}.csv\", header=None)\n",
    "            \n",
    "    else:\n",
    "        if sniffer:\n",
    "                df = pd.read_csv(f\"../CEA_Round1/{table_id}.csv\")\n",
    "                first_table = table_id\n",
    "            \n",
    "        else:\n",
    "            df = pd.read_csv(f\"../CEA_Round1/{table_id}.csv\", header=None)\n",
    "            first_table = table_id\n",
    "            \n",
    "    column_id = row[\"Column_id\"]\n",
    "    row_id = row[\"Row_id\"]\n",
    "    if sniffer:\n",
    "        uri, cell_before, cell_after, where = find_uri(df, column_id, row_id-1, sparql)\n",
    "    else:\n",
    "        uri, cell_before, cell_after, where = find_uri(df, column_id, row_id, sparql)\n",
    "    row[\"DBpedia_entity\"]= uri\n",
    "    row[\"Cell_before\"]=cell_before\n",
    "    row[\"Cell_after\"]=cell_after\n",
    "    row[\"Where\"]=where\n",
    "    return row"
   ]
  },
  {
   "cell_type": "code",
   "execution_count": 37,
   "metadata": {},
   "outputs": [],
   "source": [
    "df_target = df_target.sort_values(\"Table_id\").reset_index(drop=True)\n",
    "first_table = df_target[\"Table_id\"].unique()[0]"
   ]
  },
  {
   "cell_type": "code",
   "execution_count": 38,
   "metadata": {},
   "outputs": [],
   "source": [
    "df_target = df_target.apply(make_for_row, axis=1)"
   ]
  },
  {
   "cell_type": "markdown",
   "metadata": {},
   "source": [
    "## Saving dataframe to csv "
   ]
  },
  {
   "cell_type": "code",
   "execution_count": 46,
   "metadata": {},
   "outputs": [],
   "source": [
    "df_target.to_csv('df_target_sparql_Agdistis.csv', index=False)"
   ]
  },
  {
   "cell_type": "markdown",
   "metadata": {},
   "source": [
    "## Load ground truth"
   ]
  },
  {
   "cell_type": "code",
   "execution_count": 4,
   "metadata": {},
   "outputs": [],
   "source": [
    "gt = pd.read_csv('CEA_Round1_gt.csv', header=None)\n",
    "gt.columns=['Table_id', 'Column_id', 'Row_id', 'Link_gt']"
   ]
  },
  {
   "cell_type": "markdown",
   "metadata": {},
   "source": [
    "## Merge to dataframe "
   ]
  },
  {
   "cell_type": "code",
   "execution_count": 5,
   "metadata": {},
   "outputs": [],
   "source": [
    "merge = pd.merge(df_target, gt, on=['Table_id', 'Column_id', 'Row_id'])"
   ]
  },
  {
   "cell_type": "markdown",
   "metadata": {},
   "source": [
    "## Method to check if own dbpedia entity is in ground truth links"
   ]
  },
  {
   "cell_type": "code",
   "execution_count": 39,
   "metadata": {},
   "outputs": [],
   "source": [
    "def check(row):\n",
    "    try:\n",
    "        dbpedia = row['DBpedia_entity'].split(\" \")\n",
    "        check = True\n",
    "        for r in dbpedia:\n",
    "            if r in row['Link_gt'].split(\" \"):\n",
    "                row['Good_url'] = True\n",
    "                check = False\n",
    "\n",
    "        if check:\n",
    "            row['Good_url'] = False\n",
    "        return row \n",
    "    except:\n",
    "        row['Good_url'] = False\n",
    "        return row "
   ]
  },
  {
   "cell_type": "code",
   "execution_count": 40,
   "metadata": {},
   "outputs": [],
   "source": [
    "merge = merge.apply(check, axis=1)"
   ]
  },
  {
   "cell_type": "markdown",
   "metadata": {},
   "source": [
    "## Saving to csv "
   ]
  },
  {
   "cell_type": "code",
   "execution_count": 45,
   "metadata": {},
   "outputs": [],
   "source": [
    "merge.to_csv('merge_sparql_Agdistis.csv', index=False)"
   ]
  },
  {
   "cell_type": "code",
   "execution_count": 42,
   "metadata": {},
   "outputs": [
    {
     "data": {
      "text/plain": [
       "6349"
      ]
     },
     "execution_count": 42,
     "metadata": {},
     "output_type": "execute_result"
    }
   ],
   "source": [
    "len(merge[merge['Good_url']])"
   ]
  },
  {
   "cell_type": "code",
   "execution_count": 43,
   "metadata": {},
   "outputs": [
    {
     "data": {
      "text/plain": [
       "8418"
      ]
     },
     "execution_count": 43,
     "metadata": {},
     "output_type": "execute_result"
    }
   ],
   "source": [
    "len(merge)"
   ]
  },
  {
   "cell_type": "code",
   "execution_count": 44,
   "metadata": {},
   "outputs": [
    {
     "data": {
      "text/plain": [
       "75.42171537182229"
      ]
     },
     "execution_count": 44,
     "metadata": {},
     "output_type": "execute_result"
    }
   ],
   "source": [
    "(6349/8418)*100"
   ]
  },
  {
   "cell_type": "code",
   "execution_count": null,
   "metadata": {},
   "outputs": [],
   "source": []
  },
  {
   "cell_type": "code",
   "execution_count": 2,
   "metadata": {},
   "outputs": [],
   "source": [
    "merge = pd.read_csv(\"merge_sparql_Agdistis.csv\")"
   ]
  },
  {
   "cell_type": "code",
   "execution_count": 3,
   "metadata": {},
   "outputs": [
    {
     "data": {
      "text/html": [
       "<div>\n",
       "<style scoped>\n",
       "    .dataframe tbody tr th:only-of-type {\n",
       "        vertical-align: middle;\n",
       "    }\n",
       "\n",
       "    .dataframe tbody tr th {\n",
       "        vertical-align: top;\n",
       "    }\n",
       "\n",
       "    .dataframe thead th {\n",
       "        text-align: right;\n",
       "    }\n",
       "</style>\n",
       "<table border=\"1\" class=\"dataframe\">\n",
       "  <thead>\n",
       "    <tr style=\"text-align: right;\">\n",
       "      <th></th>\n",
       "      <th>Table_id</th>\n",
       "      <th>Column_id</th>\n",
       "      <th>Row_id</th>\n",
       "      <th>DBpedia_entity</th>\n",
       "      <th>Cell_before</th>\n",
       "      <th>Cell_after</th>\n",
       "      <th>Where</th>\n",
       "      <th>Link_gt</th>\n",
       "      <th>Good_url</th>\n",
       "    </tr>\n",
       "  </thead>\n",
       "  <tbody>\n",
       "    <tr>\n",
       "      <th>0</th>\n",
       "      <td>10579449_0_1681126353774891032</td>\n",
       "      <td>1</td>\n",
       "      <td>8</td>\n",
       "      <td>http://dbpedia.org/resource/Dinamalar</td>\n",
       "      <td>Dinamalar</td>\n",
       "      <td>Dinamalar</td>\n",
       "      <td>sparql_after</td>\n",
       "      <td>http://dbpedia.org/resource/Dinamalar http://dbpedia.org/resource/Dinamalar http://dbpedia.org/resource/Dina_Malar http://dbpedia.org/resource/DINAMALAR</td>\n",
       "      <td>True</td>\n",
       "    </tr>\n",
       "    <tr>\n",
       "      <th>1</th>\n",
       "      <td>10579449_0_1681126353774891032</td>\n",
       "      <td>1</td>\n",
       "      <td>2</td>\n",
       "      <td>http://dbpedia.org/resource/Dainik_Bhaskar</td>\n",
       "      <td>Dainik Bhaskar</td>\n",
       "      <td>Dainik Bhaskar</td>\n",
       "      <td>sparql_after</td>\n",
       "      <td>http://dbpedia.org/resource/Dainik_Bhaskar http://dbpedia.org/resource/Daily_Bhaskar http://dbpedia.org/resource/Dainik_Bhaskar</td>\n",
       "      <td>True</td>\n",
       "    </tr>\n",
       "    <tr>\n",
       "      <th>2</th>\n",
       "      <td>10579449_0_1681126353774891032</td>\n",
       "      <td>1</td>\n",
       "      <td>11</td>\n",
       "      <td>NaN</td>\n",
       "      <td>bbc Hindi</td>\n",
       "      <td>bbc Hindi</td>\n",
       "      <td>Agdistis_before</td>\n",
       "      <td>http://dbpedia.org/resource/BBC_World_Service http://dbpedia.org/resource/BBC_Worldwide_Service http://dbpedia.org/resource/British_Broadcasting_Corporation_World_Service http://dbpedia.org/resource/Bbc_world_service http://dbpedia.org/resource/BBC_Radio_World_Service http://dbpedia.org/resource/Auckland_Radio_Trust http://dbpedia.org/resource/World_Service http://dbpedia.org/resource/World_service http://dbpedia.org/resource/BBC_Caribbean http://dbpedia.org/resource/BBC_Turkish_Section http://dbpedia.org/resource/BBC_Türkçe http://dbpedia.org/resource/BBC_General_Overseas_Service http://dbpedia.org/resource/BBC_world_service http://dbpedia.org/resource/BBC's_Overseas_Service http://dbpedia.org/resource/BBC_France http://dbpedia.org/resource/BBC_World_Service http://dbpedia.org/resource/BBC_Turkish http://dbpedia.org/resource/BBC_Empire_Service http://dbpedia.org/resource/BBC_Overseas_Service http://dbpedia.org/resource/BBC_Para_África http://dbpedia.org/resource/BBC_News_(radio_series) http://dbpedia.org/resource/BBC's_overseas_service http://dbpedia.org/resource/BBC_Worldservice http://dbpedia.org/resource/B.B.C._World_Service</td>\n",
       "      <td>False</td>\n",
       "    </tr>\n",
       "    <tr>\n",
       "      <th>3</th>\n",
       "      <td>10579449_0_1681126353774891032</td>\n",
       "      <td>1</td>\n",
       "      <td>16</td>\n",
       "      <td>http://dbpedia.org/resource/People's_Daily</td>\n",
       "      <td>People's Daily (Renmin Ri Bao)</td>\n",
       "      <td>People's Daily</td>\n",
       "      <td>sparql_after</td>\n",
       "      <td>http://dbpedia.org/resource/People's_Daily http://dbpedia.org/resource/The_Peoples_Daily http://dbpedia.org/resource/The_People's_Daily http://dbpedia.org/resource/Peoples_Daily_China http://dbpedia.org/resource/Rénmín_Rìbào http://dbpedia.org/resource/Gosou.cn http://dbpedia.org/resource/Jike.com http://dbpedia.org/resource/People.cn http://dbpedia.org/resource/People.com.cn http://dbpedia.org/resource/Renmin_ribao http://dbpedia.org/resource/China_People's_Daily_Online http://dbpedia.org/resource/Chinese_People's_Daily http://dbpedia.org/resource/People’s_Daily http://dbpedia.org/resource/Renmin_Ribao http://dbpedia.org/resource/People_Daily http://dbpedia.org/resource/Peoples_Daily_Online http://dbpedia.org/resource/Jike.cn http://dbpedia.org/resource/People's_Daily_China http://dbpedia.org/resource/People's_Daily_Online http://dbpedia.org/resource/Jike http://dbpedia.org/resource/People's_Daily http://dbpedia.org/resource/China_People's_Daily http://dbpedia.org/resource/人民日报</td>\n",
       "      <td>True</td>\n",
       "    </tr>\n",
       "    <tr>\n",
       "      <th>4</th>\n",
       "      <td>10579449_0_1681126353774891032</td>\n",
       "      <td>1</td>\n",
       "      <td>13</td>\n",
       "      <td>http://dbpedia.org/resource/Softpedia</td>\n",
       "      <td>Softpedia</td>\n",
       "      <td>Softpedia</td>\n",
       "      <td>sparql_after</td>\n",
       "      <td>http://dbpedia.org/resource/Softpedia http://dbpedia.org/resource/Autoevolution http://dbpedia.org/resource/Softpedia http://dbpedia.org/resource/SoftNews_NET http://dbpedia.org/resource/Softpedia.com</td>\n",
       "      <td>True</td>\n",
       "    </tr>\n",
       "  </tbody>\n",
       "</table>\n",
       "</div>"
      ],
      "text/plain": [
       "                         Table_id  Column_id  Row_id  \\\n",
       "0  10579449_0_1681126353774891032  1          8        \n",
       "1  10579449_0_1681126353774891032  1          2        \n",
       "2  10579449_0_1681126353774891032  1          11       \n",
       "3  10579449_0_1681126353774891032  1          16       \n",
       "4  10579449_0_1681126353774891032  1          13       \n",
       "\n",
       "                                DBpedia_entity  \\\n",
       "0  http://dbpedia.org/resource/Dinamalar         \n",
       "1  http://dbpedia.org/resource/Dainik_Bhaskar    \n",
       "2  NaN                                           \n",
       "3  http://dbpedia.org/resource/People's_Daily    \n",
       "4  http://dbpedia.org/resource/Softpedia         \n",
       "\n",
       "                      Cell_before      Cell_after            Where  \\\n",
       "0  Dinamalar                       Dinamalar       sparql_after      \n",
       "1  Dainik Bhaskar                  Dainik Bhaskar  sparql_after      \n",
       "2  bbc Hindi                       bbc Hindi       Agdistis_before   \n",
       "3  People's Daily (Renmin Ri Bao)  People's Daily  sparql_after      \n",
       "4  Softpedia                       Softpedia       sparql_after      \n",
       "\n",
       "                                                                                                                                                                                                                                                                                                                                                                                                                                                                                                                                                                                                                                                                                                                                                                                                                                                                                                                                                                                                                                                                                                                                                                                      Link_gt  \\\n",
       "0  http://dbpedia.org/resource/Dinamalar http://dbpedia.org/resource/Dinamalar http://dbpedia.org/resource/Dina_Malar http://dbpedia.org/resource/DINAMALAR                                                                                                                                                                                                                                                                                                                                                                                                                                                                                                                                                                                                                                                                                                                                                                                                                                                                                                                                                                                                                                     \n",
       "1  http://dbpedia.org/resource/Dainik_Bhaskar http://dbpedia.org/resource/Daily_Bhaskar http://dbpedia.org/resource/Dainik_Bhaskar                                                                                                                                                                                                                                                                                                                                                                                                                                                                                                                                                                                                                                                                                                                                                                                                                                                                                                                                                                                                                                                              \n",
       "2  http://dbpedia.org/resource/BBC_World_Service http://dbpedia.org/resource/BBC_Worldwide_Service http://dbpedia.org/resource/British_Broadcasting_Corporation_World_Service http://dbpedia.org/resource/Bbc_world_service http://dbpedia.org/resource/BBC_Radio_World_Service http://dbpedia.org/resource/Auckland_Radio_Trust http://dbpedia.org/resource/World_Service http://dbpedia.org/resource/World_service http://dbpedia.org/resource/BBC_Caribbean http://dbpedia.org/resource/BBC_Turkish_Section http://dbpedia.org/resource/BBC_Türkçe http://dbpedia.org/resource/BBC_General_Overseas_Service http://dbpedia.org/resource/BBC_world_service http://dbpedia.org/resource/BBC's_Overseas_Service http://dbpedia.org/resource/BBC_France http://dbpedia.org/resource/BBC_World_Service http://dbpedia.org/resource/BBC_Turkish http://dbpedia.org/resource/BBC_Empire_Service http://dbpedia.org/resource/BBC_Overseas_Service http://dbpedia.org/resource/BBC_Para_África http://dbpedia.org/resource/BBC_News_(radio_series) http://dbpedia.org/resource/BBC's_overseas_service http://dbpedia.org/resource/BBC_Worldservice http://dbpedia.org/resource/B.B.C._World_Service   \n",
       "3  http://dbpedia.org/resource/People's_Daily http://dbpedia.org/resource/The_Peoples_Daily http://dbpedia.org/resource/The_People's_Daily http://dbpedia.org/resource/Peoples_Daily_China http://dbpedia.org/resource/Rénmín_Rìbào http://dbpedia.org/resource/Gosou.cn http://dbpedia.org/resource/Jike.com http://dbpedia.org/resource/People.cn http://dbpedia.org/resource/People.com.cn http://dbpedia.org/resource/Renmin_ribao http://dbpedia.org/resource/China_People's_Daily_Online http://dbpedia.org/resource/Chinese_People's_Daily http://dbpedia.org/resource/People’s_Daily http://dbpedia.org/resource/Renmin_Ribao http://dbpedia.org/resource/People_Daily http://dbpedia.org/resource/Peoples_Daily_Online http://dbpedia.org/resource/Jike.cn http://dbpedia.org/resource/People's_Daily_China http://dbpedia.org/resource/People's_Daily_Online http://dbpedia.org/resource/Jike http://dbpedia.org/resource/People's_Daily http://dbpedia.org/resource/China_People's_Daily http://dbpedia.org/resource/人民日报                                                                                                                                                            \n",
       "4  http://dbpedia.org/resource/Softpedia http://dbpedia.org/resource/Autoevolution http://dbpedia.org/resource/Softpedia http://dbpedia.org/resource/SoftNews_NET http://dbpedia.org/resource/Softpedia.com                                                                                                                                                                                                                                                                                                                                                                                                                                                                                                                                                                                                                                                                                                                                                                                                                                                                                                                                                                                     \n",
       "\n",
       "   Good_url  \n",
       "0  True      \n",
       "1  True      \n",
       "2  False     \n",
       "3  True      \n",
       "4  True      "
      ]
     },
     "execution_count": 3,
     "metadata": {},
     "output_type": "execute_result"
    }
   ],
   "source": [
    "merge.head()"
   ]
  },
  {
   "cell_type": "code",
   "execution_count": null,
   "metadata": {},
   "outputs": [],
   "source": []
  },
  {
   "cell_type": "code",
   "execution_count": null,
   "metadata": {},
   "outputs": [],
   "source": []
  }
 ],
 "metadata": {
  "kernelspec": {
   "display_name": "Python 3",
   "language": "python",
   "name": "python3"
  },
  "language_info": {
   "codemirror_mode": {
    "name": "ipython",
    "version": 3
   },
   "file_extension": ".py",
   "mimetype": "text/x-python",
   "name": "python",
   "nbconvert_exporter": "python",
   "pygments_lexer": "ipython3",
   "version": "3.7.3"
  }
 },
 "nbformat": 4,
 "nbformat_minor": 2
}
