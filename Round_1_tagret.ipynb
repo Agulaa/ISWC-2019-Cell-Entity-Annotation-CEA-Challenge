{
 "cells": [
  {
   "cell_type": "code",
   "execution_count": 6,
   "metadata": {},
   "outputs": [],
   "source": [
    "import pandas as pd \n",
    "import numpy as np "
   ]
  },
  {
   "cell_type": "code",
   "execution_count": 7,
   "metadata": {},
   "outputs": [],
   "source": [
    "df_target = pd.read_csv(\"../CEA_Round1_Targets.csv\", header=None, nrows=100)\n",
    "df_target.columns=[\"Table_id\", \"Column_id\", \"Row_id\"]"
   ]
  },
  {
   "cell_type": "code",
   "execution_count": 8,
   "metadata": {},
   "outputs": [],
   "source": [
    "df_target[\"DBpedia_entity\"] = \"\"\n",
    "df_target[\"Cell\"] = \"\""
   ]
  },
  {
   "cell_type": "code",
   "execution_count": 9,
   "metadata": {},
   "outputs": [
    {
     "data": {
      "text/html": [
       "<div>\n",
       "<style scoped>\n",
       "    .dataframe tbody tr th:only-of-type {\n",
       "        vertical-align: middle;\n",
       "    }\n",
       "\n",
       "    .dataframe tbody tr th {\n",
       "        vertical-align: top;\n",
       "    }\n",
       "\n",
       "    .dataframe thead th {\n",
       "        text-align: right;\n",
       "    }\n",
       "</style>\n",
       "<table border=\"1\" class=\"dataframe\">\n",
       "  <thead>\n",
       "    <tr style=\"text-align: right;\">\n",
       "      <th></th>\n",
       "      <th>Table_id</th>\n",
       "      <th>Column_id</th>\n",
       "      <th>Row_id</th>\n",
       "      <th>DBpedia_entity</th>\n",
       "      <th>Cell</th>\n",
       "    </tr>\n",
       "  </thead>\n",
       "  <tbody>\n",
       "    <tr>\n",
       "      <th>0</th>\n",
       "      <td>50245608_0_871275842592178099</td>\n",
       "      <td>0</td>\n",
       "      <td>154</td>\n",
       "      <td></td>\n",
       "      <td></td>\n",
       "    </tr>\n",
       "    <tr>\n",
       "      <th>1</th>\n",
       "      <td>39107734_2_2329160387535788734</td>\n",
       "      <td>1</td>\n",
       "      <td>32</td>\n",
       "      <td></td>\n",
       "      <td></td>\n",
       "    </tr>\n",
       "    <tr>\n",
       "      <th>2</th>\n",
       "      <td>22864497_0_8632623712684511496</td>\n",
       "      <td>0</td>\n",
       "      <td>227</td>\n",
       "      <td></td>\n",
       "      <td></td>\n",
       "    </tr>\n",
       "    <tr>\n",
       "      <th>3</th>\n",
       "      <td>66009064_0_9148652238372261251</td>\n",
       "      <td>0</td>\n",
       "      <td>15</td>\n",
       "      <td></td>\n",
       "      <td></td>\n",
       "    </tr>\n",
       "    <tr>\n",
       "      <th>4</th>\n",
       "      <td>21362676_0_6854186738074119688</td>\n",
       "      <td>1</td>\n",
       "      <td>75</td>\n",
       "      <td></td>\n",
       "      <td></td>\n",
       "    </tr>\n",
       "  </tbody>\n",
       "</table>\n",
       "</div>"
      ],
      "text/plain": [
       "                         Table_id  Column_id  Row_id DBpedia_entity Cell\n",
       "0   50245608_0_871275842592178099          0     154                    \n",
       "1  39107734_2_2329160387535788734          1      32                    \n",
       "2  22864497_0_8632623712684511496          0     227                    \n",
       "3  66009064_0_9148652238372261251          0      15                    \n",
       "4  21362676_0_6854186738074119688          1      75                    "
      ]
     },
     "execution_count": 9,
     "metadata": {},
     "output_type": "execute_result"
    }
   ],
   "source": [
    "df_target.head()"
   ]
  },
  {
   "cell_type": "code",
   "execution_count": 10,
   "metadata": {},
   "outputs": [],
   "source": [
    "def remove_special_signs(word):\n",
    "    result = \"\"\n",
    "    for w in word:\n",
    "        if w.isalpha() or w==\"'\" or w.isspace():\n",
    "            result += w \n",
    "    return result"
   ]
  },
  {
   "cell_type": "code",
   "execution_count": 11,
   "metadata": {},
   "outputs": [],
   "source": [
    "def replace_space(word):\n",
    "    try:\n",
    "        return word.replace(\" \", \"_\")\n",
    "    except:\n",
    "        print(word)\n",
    "        return word"
   ]
  },
  {
   "cell_type": "code",
   "execution_count": 12,
   "metadata": {},
   "outputs": [],
   "source": [
    "def find_entity(df, column_id, row_id):\n",
    "    try:\n",
    "        cell = df.iloc[row_id, column_id]\n",
    "        cell = remove_special_signs(cell)\n",
    "        cell = replace_space(cell)\n",
    "        return f\"http://dbpedia.org/resource/{cell}\", cell\n",
    "    except:\n",
    "        return np.nan, np.nan\n",
    "    "
   ]
  },
  {
   "cell_type": "code",
   "execution_count": 13,
   "metadata": {},
   "outputs": [],
   "source": [
    "df_target = df_target.sort_values(\"Table_id\").reset_index(drop=True)\n",
    "first_table = df_target[\"Table_id\"].unique()[0]"
   ]
  },
  {
   "cell_type": "code",
   "execution_count": 14,
   "metadata": {},
   "outputs": [],
   "source": [
    "def make_for_row(row):\n",
    "    global first_table\n",
    "    table_id = row[\"Table_id\"]\n",
    "    if first_table == table_id:\n",
    "         df = pd.read_csv(f\"../CEA_Round1/{table_id}.csv\")\n",
    "    else:\n",
    "        df = pd.read_csv(f\"../CEA_Round1/{table_id}.csv\")\n",
    "        first_table = table_id\n",
    "    column_id = row[\"Column_id\"]\n",
    "    row_id = row[\"Row_id\"]\n",
    "    path, cell = find_entity(df, column_id, row_id)\n",
    "    row[\"DBpedia_entity\"]= path\n",
    "    row[\"Cell\"]=cell\n",
    "    return row\n",
    "    "
   ]
  },
  {
   "cell_type": "code",
   "execution_count": 15,
   "metadata": {},
   "outputs": [
    {
     "data": {
      "text/html": [
       "<div>\n",
       "<style scoped>\n",
       "    .dataframe tbody tr th:only-of-type {\n",
       "        vertical-align: middle;\n",
       "    }\n",
       "\n",
       "    .dataframe tbody tr th {\n",
       "        vertical-align: top;\n",
       "    }\n",
       "\n",
       "    .dataframe thead th {\n",
       "        text-align: right;\n",
       "    }\n",
       "</style>\n",
       "<table border=\"1\" class=\"dataframe\">\n",
       "  <thead>\n",
       "    <tr style=\"text-align: right;\">\n",
       "      <th></th>\n",
       "      <th>Table_id</th>\n",
       "      <th>Column_id</th>\n",
       "      <th>Row_id</th>\n",
       "      <th>DBpedia_entity</th>\n",
       "      <th>Cell</th>\n",
       "    </tr>\n",
       "  </thead>\n",
       "  <tbody>\n",
       "    <tr>\n",
       "      <th>0</th>\n",
       "      <td>13719111_1_5719401842463579519</td>\n",
       "      <td>0</td>\n",
       "      <td>132</td>\n",
       "      <td></td>\n",
       "      <td></td>\n",
       "    </tr>\n",
       "    <tr>\n",
       "      <th>1</th>\n",
       "      <td>13719111_1_5719401842463579519</td>\n",
       "      <td>0</td>\n",
       "      <td>112</td>\n",
       "      <td></td>\n",
       "      <td></td>\n",
       "    </tr>\n",
       "    <tr>\n",
       "      <th>2</th>\n",
       "      <td>13719111_1_5719401842463579519</td>\n",
       "      <td>0</td>\n",
       "      <td>443</td>\n",
       "      <td></td>\n",
       "      <td></td>\n",
       "    </tr>\n",
       "    <tr>\n",
       "      <th>3</th>\n",
       "      <td>13719111_1_5719401842463579519</td>\n",
       "      <td>0</td>\n",
       "      <td>308</td>\n",
       "      <td></td>\n",
       "      <td></td>\n",
       "    </tr>\n",
       "    <tr>\n",
       "      <th>4</th>\n",
       "      <td>13719111_1_5719401842463579519</td>\n",
       "      <td>0</td>\n",
       "      <td>48</td>\n",
       "      <td></td>\n",
       "      <td></td>\n",
       "    </tr>\n",
       "  </tbody>\n",
       "</table>\n",
       "</div>"
      ],
      "text/plain": [
       "                         Table_id  Column_id  Row_id DBpedia_entity Cell\n",
       "0  13719111_1_5719401842463579519          0     132                    \n",
       "1  13719111_1_5719401842463579519          0     112                    \n",
       "2  13719111_1_5719401842463579519          0     443                    \n",
       "3  13719111_1_5719401842463579519          0     308                    \n",
       "4  13719111_1_5719401842463579519          0      48                    "
      ]
     },
     "execution_count": 15,
     "metadata": {},
     "output_type": "execute_result"
    }
   ],
   "source": [
    "df_target.head()"
   ]
  },
  {
   "cell_type": "code",
   "execution_count": 16,
   "metadata": {},
   "outputs": [],
   "source": [
    "df_target = df_target.apply(make_for_row, axis=1)"
   ]
  },
  {
   "cell_type": "code",
   "execution_count": 17,
   "metadata": {},
   "outputs": [
    {
     "name": "stdout",
     "output_type": "stream",
     "text": [
      "<class 'pandas.core.frame.DataFrame'>\n",
      "RangeIndex: 100 entries, 0 to 99\n",
      "Data columns (total 5 columns):\n",
      "Table_id          100 non-null object\n",
      "Column_id         100 non-null int64\n",
      "Row_id            100 non-null int64\n",
      "DBpedia_entity    97 non-null object\n",
      "Cell              97 non-null object\n",
      "dtypes: int64(2), object(3)\n",
      "memory usage: 4.0+ KB\n"
     ]
    }
   ],
   "source": [
    "df_target.info()"
   ]
  },
  {
   "cell_type": "code",
   "execution_count": 18,
   "metadata": {},
   "outputs": [
    {
     "data": {
      "text/plain": [
       "0                         Grey_parrot\n",
       "1                     Greyheaded_gull\n",
       "2                  Mackinnon's_fiscal\n",
       "3                 Redcapped_robinchat\n",
       "4             Blackchested_snakeeagle\n",
       "5              Spotted_mourningthrush\n",
       "6                     Tambourine_dove\n",
       "7                   Winding_cisticola\n",
       "8          Born_on_the_Fourth_of_July\n",
       "9                          Breathless\n",
       "10                     Kerr_Reservoir\n",
       "11                  Chimney_Reservoir\n",
       "12                Tom_Steed_Reservoir\n",
       "13                        Canton_Lake\n",
       "14                 The_King_of_Comedy\n",
       "15         Need_for_Speed_Hot_Pursuit\n",
       "16                          Time_Leap\n",
       "17          Juiced__Hot_Import_Nights\n",
       "18                             Brazil\n",
       "19          The_Man_Who_Would_be_King\n",
       "20                             Somoni\n",
       "21              East_Caribbean_Dollar\n",
       "22                       Lorenzo_Ruiz\n",
       "23        Perpetua_and_her_companions\n",
       "24                         GoldenEye_\n",
       "25                Super_Mario_Galaxy_\n",
       "26                Halo_Combat_Evolved\n",
       "27                    Richard_Strauss\n",
       "28                        Taxi_Driver\n",
       "29                  Wild_Strawberries\n",
       "                   ...               \n",
       "70                      Faroe_Islands\n",
       "71                    Rosemary's_Baby\n",
       "72                   Super_Smash_Bros\n",
       "73                Fanny_and_Alexander\n",
       "74                        white_dwarf\n",
       "75                    Lacal'eauClaire\n",
       "76      Austroeupatorium_inulaefolium\n",
       "77                   Maesopsis_eminii\n",
       "78                     Acacia_mangium\n",
       "79              Thunbergia_laurifolia\n",
       "80                  Lobelia_zeylanica\n",
       "81                          WOODCHUCK\n",
       "82                   BALTIMORE_ORIOLE\n",
       "83       NORTHERN_ROUGHWINGED_SWALLOW\n",
       "84                       Mario_Party_\n",
       "85               Grand_Theft_Auto_III\n",
       "86                     Pokmon_Pinball\n",
       "87    Der_Herr_der_Ringe_Die_Gefhrten\n",
       "88                   DTM_Race_Driver_\n",
       "89                       Battlefield_\n",
       "90                  Super_Mario_World\n",
       "91                  Final_Fantasy_VII\n",
       "92       Superman_The_Animated_Series\n",
       "93           Museo_Nacional_del_Prado\n",
       "94             Brooklyn_Museum_of_Art\n",
       "95                        Mauritshuis\n",
       "96                        Grange_Fell\n",
       "97                    Great_Mell_Fell\n",
       "98                               Barf\n",
       "99                           Dow_Crag\n",
       "Name: Cell, Length: 100, dtype: object"
      ]
     },
     "execution_count": 18,
     "metadata": {},
     "output_type": "execute_result"
    }
   ],
   "source": [
    "df_target.iloc[:, 4]"
   ]
  },
  {
   "cell_type": "code",
   "execution_count": 19,
   "metadata": {},
   "outputs": [],
   "source": [
    "from langdetect import detect"
   ]
  },
  {
   "cell_type": "code",
   "execution_count": 20,
   "metadata": {},
   "outputs": [],
   "source": [
    "lang = detect(\"Ein, zwei, drei, vier\")"
   ]
  },
  {
   "cell_type": "code",
   "execution_count": 21,
   "metadata": {},
   "outputs": [
    {
     "data": {
      "text/plain": [
       "'de'"
      ]
     },
     "execution_count": 21,
     "metadata": {},
     "output_type": "execute_result"
    }
   ],
   "source": [
    "lang"
   ]
  },
  {
   "cell_type": "code",
   "execution_count": null,
   "metadata": {},
   "outputs": [],
   "source": []
  }
 ],
 "metadata": {
  "kernelspec": {
   "display_name": "Python 3",
   "language": "python",
   "name": "python3"
  },
  "language_info": {
   "codemirror_mode": {
    "name": "ipython",
    "version": 3
   },
   "file_extension": ".py",
   "mimetype": "text/x-python",
   "name": "python",
   "nbconvert_exporter": "python",
   "pygments_lexer": "ipython3",
   "version": "3.7.3"
  }
 },
 "nbformat": 4,
 "nbformat_minor": 2
}
